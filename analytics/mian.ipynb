{
 "cells": [
  {
   "cell_type": "markdown",
   "metadata": {},
   "source": [
    "Análisis de equipos segunda división regional masculina\n",
    "---\n",
    "\n",
    "El objetivo es analizar los resultados e información sobre los equipos en temporadas anteriores, de cara a la panificación de la próxima temporada, conocer los equipos potencialmente más fuertes, los que han mejorado o empeorado en el tiempo, etc."
   ]
  },
  {
   "cell_type": "code",
   "execution_count": 2,
   "metadata": {},
   "outputs": [],
   "source": [
    "# Imports\n",
    "import pandas as pd\n",
    "\n",
    "# Cargar los DataFrames con los que vamos a trabajar\n",
    "uri = 'sqlite:///../resources/data/fbrm.db'\n",
    "results_df = pd.read_sql_table('results', uri)\n",
    "teams_df = pd.read_sql_table('teams', uri)"
   ]
  },
  {
   "cell_type": "markdown",
   "metadata": {},
   "source": [
    "### Mejores equipos 2022/2023"
   ]
  },
  {
   "cell_type": "code",
   "execution_count": 31,
   "metadata": {},
   "outputs": [
    {
     "data": {
      "text/html": [
       "<div>\n",
       "<style scoped>\n",
       "    .dataframe tbody tr th:only-of-type {\n",
       "        vertical-align: middle;\n",
       "    }\n",
       "\n",
       "    .dataframe tbody tr th {\n",
       "        vertical-align: top;\n",
       "    }\n",
       "\n",
       "    .dataframe thead th {\n",
       "        text-align: right;\n",
       "    }\n",
       "</style>\n",
       "<table border=\"1\" class=\"dataframe\">\n",
       "  <thead>\n",
       "    <tr style=\"text-align: right;\">\n",
       "      <th></th>\n",
       "      <th>team</th>\n",
       "      <th>phase</th>\n",
       "      <th>group</th>\n",
       "      <th>position</th>\n",
       "      <th>win</th>\n",
       "      <th>scored</th>\n",
       "      <th>against</th>\n",
       "    </tr>\n",
       "  </thead>\n",
       "  <tbody>\n",
       "    <tr>\n",
       "      <th>76</th>\n",
       "      <td>CIKY ORO C.D. LOS URRUTIAS</td>\n",
       "      <td>REGULAR</td>\n",
       "      <td>B</td>\n",
       "      <td>1</td>\n",
       "      <td>12</td>\n",
       "      <td>938</td>\n",
       "      <td>697</td>\n",
       "    </tr>\n",
       "    <tr>\n",
       "      <th>114</th>\n",
       "      <td>MY ENGLISH HOUSE LA FLOTA CB EL CARMEN</td>\n",
       "      <td>REGULAR</td>\n",
       "      <td>A</td>\n",
       "      <td>1</td>\n",
       "      <td>12</td>\n",
       "      <td>888</td>\n",
       "      <td>615</td>\n",
       "    </tr>\n",
       "    <tr>\n",
       "      <th>106</th>\n",
       "      <td>MY ENGLISH HOUSE LA FLOTA CB EL CARMEN</td>\n",
       "      <td>2ª FASE</td>\n",
       "      <td>TITULO</td>\n",
       "      <td>1</td>\n",
       "      <td>12</td>\n",
       "      <td>1008</td>\n",
       "      <td>866</td>\n",
       "    </tr>\n",
       "    <tr>\n",
       "      <th>84</th>\n",
       "      <td>BAHIA MAZARRON BASKET</td>\n",
       "      <td>2ª FASE</td>\n",
       "      <td>CLASIFICACION</td>\n",
       "      <td>1</td>\n",
       "      <td>11</td>\n",
       "      <td>932</td>\n",
       "      <td>629</td>\n",
       "    </tr>\n",
       "  </tbody>\n",
       "</table>\n",
       "</div>"
      ],
      "text/plain": [
       "                                       team    phase          group  position  \\\n",
       "76               CIKY ORO C.D. LOS URRUTIAS  REGULAR              B         1   \n",
       "114  MY ENGLISH HOUSE LA FLOTA CB EL CARMEN  REGULAR              A         1   \n",
       "106  MY ENGLISH HOUSE LA FLOTA CB EL CARMEN  2ª FASE         TITULO         1   \n",
       "84                    BAHIA MAZARRON BASKET  2ª FASE  CLASIFICACION         1   \n",
       "\n",
       "     win  scored  against  \n",
       "76    12     938      697  \n",
       "114   12     888      615  \n",
       "106   12    1008      866  \n",
       "84    11     932      629  "
      ]
     },
     "execution_count": 31,
     "metadata": {},
     "output_type": "execute_result"
    }
   ],
   "source": [
    "# Filtrar resultados para la temporada 2022/2023\n",
    "season_2022_2023_df = results_df[results_df['season'] == '2022/2023']\n",
    "# Columnas que nos interesan\n",
    "colums = ['team', 'phase', 'group', 'position', 'win', 'scored', 'against']\n",
    "season_2022_2023_df = season_2022_2023_df[colums]\n",
    "# Equipos que han quedado primeros en cada una de la fases\n",
    "season_2022_2023_df = season_2022_2023_df[season_2022_2023_df['position'] == 1]\n",
    "season_2022_2023_df = season_2022_2023_df.sort_values(by=['phase', 'win'], ascending=False)\n",
    "# Print\n",
    "season_2022_2023_df"
   ]
  },
  {
   "cell_type": "markdown",
   "metadata": {},
   "source": [
    "### Mejor equipo histórico\n",
    "\n",
    "Para elegir el mejor equipo histórico se van a tener en cuenta, partidos ganados, posición y puntos anotados."
   ]
  },
  {
   "cell_type": "code",
   "execution_count": 45,
   "metadata": {},
   "outputs": [
    {
     "data": {
      "text/html": [
       "<div>\n",
       "<style scoped>\n",
       "    .dataframe tbody tr th:only-of-type {\n",
       "        vertical-align: middle;\n",
       "    }\n",
       "\n",
       "    .dataframe tbody tr th {\n",
       "        vertical-align: top;\n",
       "    }\n",
       "\n",
       "    .dataframe thead th {\n",
       "        text-align: right;\n",
       "    }\n",
       "</style>\n",
       "<table border=\"1\" class=\"dataframe\">\n",
       "  <thead>\n",
       "    <tr style=\"text-align: right;\">\n",
       "      <th></th>\n",
       "      <th>team</th>\n",
       "      <th>win</th>\n",
       "      <th>position</th>\n",
       "      <th>scored</th>\n",
       "      <th>historic_score</th>\n",
       "    </tr>\n",
       "  </thead>\n",
       "  <tbody>\n",
       "    <tr>\n",
       "      <th>12</th>\n",
       "      <td>C.B. JAIRIS</td>\n",
       "      <td>22.0</td>\n",
       "      <td>1.0</td>\n",
       "      <td>2150.0</td>\n",
       "      <td>441.3</td>\n",
       "    </tr>\n",
       "    <tr>\n",
       "      <th>70</th>\n",
       "      <td>UCAM MURCIA C.B. \"A\" (JUNIOR)</td>\n",
       "      <td>16.0</td>\n",
       "      <td>3.0</td>\n",
       "      <td>1978.0</td>\n",
       "      <td>404.5</td>\n",
       "    </tr>\n",
       "    <tr>\n",
       "      <th>6</th>\n",
       "      <td>AR ABOGADOS C.B.SANTOMERA</td>\n",
       "      <td>20.0</td>\n",
       "      <td>1.0</td>\n",
       "      <td>1914.0</td>\n",
       "      <td>393.1</td>\n",
       "    </tr>\n",
       "    <tr>\n",
       "      <th>51</th>\n",
       "      <td>LORCA F.C. AD ELIOCROCA</td>\n",
       "      <td>19.0</td>\n",
       "      <td>2.0</td>\n",
       "      <td>1858.0</td>\n",
       "      <td>381.7</td>\n",
       "    </tr>\n",
       "    <tr>\n",
       "      <th>69</th>\n",
       "      <td>UCAM MURCIA C.B.</td>\n",
       "      <td>14.0</td>\n",
       "      <td>5.0</td>\n",
       "      <td>1816.0</td>\n",
       "      <td>371.7</td>\n",
       "    </tr>\n",
       "  </tbody>\n",
       "</table>\n",
       "</div>"
      ],
      "text/plain": [
       "                             team   win  position  scored  historic_score\n",
       "12                    C.B. JAIRIS  22.0       1.0  2150.0           441.3\n",
       "70  UCAM MURCIA C.B. \"A\" (JUNIOR)  16.0       3.0  1978.0           404.5\n",
       "6       AR ABOGADOS C.B.SANTOMERA  20.0       1.0  1914.0           393.1\n",
       "51        LORCA F.C. AD ELIOCROCA  19.0       2.0  1858.0           381.7\n",
       "69               UCAM MURCIA C.B.  14.0       5.0  1816.0           371.7"
      ]
     },
     "execution_count": 45,
     "metadata": {},
     "output_type": "execute_result"
    }
   ],
   "source": [
    "# Asignar pesos a cada criterio\n",
    "weight_win = 0.5\n",
    "weight_position = 0.3\n",
    "weight_scored = 0.2\n",
    "\n",
    "# Genera el nuevo DF para trabajar\n",
    "historic_team_df = results_df.sort_values(by=['team','win','position','scored'],\n",
    "                                            ascending=False)\n",
    "\n",
    "# Agrupa los registros por equipo y calcula la media\n",
    "historic_team_df = historic_team_df.groupby('team').agg({\n",
    "    'win': 'mean',  # Promedio de partidos ganados\n",
    "    'position': 'mean',         # Promedio de posición\n",
    "    'scored': 'mean'   # Promedio de puntos anotados\n",
    "}).reset_index()\n",
    "\n",
    "# Calcula la puntuación ponderada para cada equipo\n",
    "historic_team_df['historic_score'] = (\n",
    "    weight_win * historic_team_df['win'] +\n",
    "    weight_position * historic_team_df['position'] +\n",
    "    weight_scored * historic_team_df['scored']\n",
    ")\n",
    "\n",
    "# Ordenar por la puntuación obtenida\n",
    "historic_team_df = historic_team_df.sort_values(by='historic_score', ascending=False)\n",
    "\n",
    "# Print\n",
    "historic_team_df.head()\n"
   ]
  },
  {
   "cell_type": "markdown",
   "metadata": {},
   "source": [
    "### Equipo más mejorado"
   ]
  },
  {
   "cell_type": "markdown",
   "metadata": {},
   "source": [
    "### Peor equipo histórico"
   ]
  },
  {
   "cell_type": "markdown",
   "metadata": {},
   "source": [
    "### Equipo más empeorado"
   ]
  },
  {
   "cell_type": "markdown",
   "metadata": {},
   "source": [
    "### Mejor equipo ofensivo"
   ]
  },
  {
   "cell_type": "markdown",
   "metadata": {},
   "source": [
    "### Mejor equipo defensivo"
   ]
  }
 ],
 "metadata": {
  "kernelspec": {
   "display_name": "la-fede-teams-analytics-rINFP4I-",
   "language": "python",
   "name": "python3"
  },
  "language_info": {
   "codemirror_mode": {
    "name": "ipython",
    "version": 3
   },
   "file_extension": ".py",
   "mimetype": "text/x-python",
   "name": "python",
   "nbconvert_exporter": "python",
   "pygments_lexer": "ipython3",
   "version": "3.10.12"
  },
  "orig_nbformat": 4
 },
 "nbformat": 4,
 "nbformat_minor": 2
}
