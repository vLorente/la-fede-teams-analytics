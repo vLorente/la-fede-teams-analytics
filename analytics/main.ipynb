{
 "cells": [
  {
   "cell_type": "markdown",
   "metadata": {},
   "source": [
    "Análisis de equipos segunda división regional masculina\n",
    "---\n",
    "\n",
    "El objetivo es analizar los resultados e información sobre los equipos en temporadas anteriores, de cara a la panificación de la próxima temporada, conocer los equipos potencialmente más fuertes, los que han mejorado o empeorado en el tiempo, etc."
   ]
  },
  {
   "cell_type": "code",
   "execution_count": 2,
   "metadata": {},
   "outputs": [],
   "source": [
    "# Imports\n",
    "import pandas as pd\n",
    "from sklearn.preprocessing import MinMaxScaler\n",
    "\n",
    "scaler = MinMaxScaler()\n",
    "\n",
    "# Cargar los DataFrames con los que vamos a trabajar\n",
    "uri = 'sqlite:///../resources/data/fbrm.db'\n",
    "results_df = pd.read_sql_table('results', uri)\n",
    "teams_df = pd.read_sql_table('teams', uri)"
   ]
  },
  {
   "cell_type": "markdown",
   "metadata": {},
   "source": [
    "### Mejores equipos 2022/2023"
   ]
  },
  {
   "cell_type": "code",
   "execution_count": 3,
   "metadata": {},
   "outputs": [
    {
     "data": {
      "text/html": [
       "<div>\n",
       "<style scoped>\n",
       "    .dataframe tbody tr th:only-of-type {\n",
       "        vertical-align: middle;\n",
       "    }\n",
       "\n",
       "    .dataframe tbody tr th {\n",
       "        vertical-align: top;\n",
       "    }\n",
       "\n",
       "    .dataframe thead th {\n",
       "        text-align: right;\n",
       "    }\n",
       "</style>\n",
       "<table border=\"1\" class=\"dataframe\">\n",
       "  <thead>\n",
       "    <tr style=\"text-align: right;\">\n",
       "      <th></th>\n",
       "      <th>team</th>\n",
       "      <th>phase</th>\n",
       "      <th>group</th>\n",
       "      <th>position</th>\n",
       "      <th>win</th>\n",
       "      <th>scored</th>\n",
       "      <th>against</th>\n",
       "    </tr>\n",
       "  </thead>\n",
       "  <tbody>\n",
       "    <tr>\n",
       "      <th>76</th>\n",
       "      <td>CIKY ORO C.D. LOS URRUTIAS</td>\n",
       "      <td>REGULAR</td>\n",
       "      <td>B</td>\n",
       "      <td>1</td>\n",
       "      <td>12</td>\n",
       "      <td>938</td>\n",
       "      <td>697</td>\n",
       "    </tr>\n",
       "    <tr>\n",
       "      <th>114</th>\n",
       "      <td>MY ENGLISH HOUSE LA FLOTA CB EL CARMEN</td>\n",
       "      <td>REGULAR</td>\n",
       "      <td>A</td>\n",
       "      <td>1</td>\n",
       "      <td>12</td>\n",
       "      <td>888</td>\n",
       "      <td>615</td>\n",
       "    </tr>\n",
       "    <tr>\n",
       "      <th>106</th>\n",
       "      <td>MY ENGLISH HOUSE LA FLOTA CB EL CARMEN</td>\n",
       "      <td>2ª FASE</td>\n",
       "      <td>TITULO</td>\n",
       "      <td>1</td>\n",
       "      <td>12</td>\n",
       "      <td>1008</td>\n",
       "      <td>866</td>\n",
       "    </tr>\n",
       "    <tr>\n",
       "      <th>84</th>\n",
       "      <td>BAHIA MAZARRON BASKET</td>\n",
       "      <td>2ª FASE</td>\n",
       "      <td>CLASIFICACION</td>\n",
       "      <td>1</td>\n",
       "      <td>11</td>\n",
       "      <td>932</td>\n",
       "      <td>629</td>\n",
       "    </tr>\n",
       "  </tbody>\n",
       "</table>\n",
       "</div>"
      ],
      "text/plain": [
       "                                       team    phase          group  position  \\\n",
       "76               CIKY ORO C.D. LOS URRUTIAS  REGULAR              B         1   \n",
       "114  MY ENGLISH HOUSE LA FLOTA CB EL CARMEN  REGULAR              A         1   \n",
       "106  MY ENGLISH HOUSE LA FLOTA CB EL CARMEN  2ª FASE         TITULO         1   \n",
       "84                    BAHIA MAZARRON BASKET  2ª FASE  CLASIFICACION         1   \n",
       "\n",
       "     win  scored  against  \n",
       "76    12     938      697  \n",
       "114   12     888      615  \n",
       "106   12    1008      866  \n",
       "84    11     932      629  "
      ]
     },
     "execution_count": 3,
     "metadata": {},
     "output_type": "execute_result"
    }
   ],
   "source": [
    "# Filtrar resultados para la temporada 2022/2023\n",
    "season_2022_2023_df = results_df[results_df['season'] == '2022/2023']\n",
    "# Columnas que nos interesan\n",
    "colums = ['team', 'phase', 'group', 'position', 'win', 'scored', 'against']\n",
    "season_2022_2023_df = season_2022_2023_df[colums]\n",
    "# Equipos que han quedado primeros en cada una de la fases\n",
    "season_2022_2023_df = season_2022_2023_df[season_2022_2023_df['position'] == 1]\n",
    "season_2022_2023_df = season_2022_2023_df.sort_values(by=['phase', 'win'], ascending=False)\n",
    "# Print\n",
    "season_2022_2023_df"
   ]
  },
  {
   "cell_type": "markdown",
   "metadata": {},
   "source": [
    "### Mejor equipo histórico\n",
    "\n",
    "Para elegir el mejor equipo histórico se van a tener en cuenta, partidos ganados, posición y puntos anotados."
   ]
  },
  {
   "cell_type": "code",
   "execution_count": 4,
   "metadata": {},
   "outputs": [
    {
     "data": {
      "text/html": [
       "<div>\n",
       "<style scoped>\n",
       "    .dataframe tbody tr th:only-of-type {\n",
       "        vertical-align: middle;\n",
       "    }\n",
       "\n",
       "    .dataframe tbody tr th {\n",
       "        vertical-align: top;\n",
       "    }\n",
       "\n",
       "    .dataframe thead th {\n",
       "        text-align: right;\n",
       "    }\n",
       "</style>\n",
       "<table border=\"1\" class=\"dataframe\">\n",
       "  <thead>\n",
       "    <tr style=\"text-align: right;\">\n",
       "      <th></th>\n",
       "      <th>team</th>\n",
       "      <th>win</th>\n",
       "      <th>position</th>\n",
       "      <th>scored</th>\n",
       "      <th>historic_score</th>\n",
       "    </tr>\n",
       "  </thead>\n",
       "  <tbody>\n",
       "    <tr>\n",
       "      <th>12</th>\n",
       "      <td>C.B. JAIRIS</td>\n",
       "      <td>22.0</td>\n",
       "      <td>1.0</td>\n",
       "      <td>2150.0</td>\n",
       "      <td>441.30</td>\n",
       "    </tr>\n",
       "    <tr>\n",
       "      <th>70</th>\n",
       "      <td>UCAM MURCIA C.B. \"A\" (JUNIOR)</td>\n",
       "      <td>16.0</td>\n",
       "      <td>3.0</td>\n",
       "      <td>1978.0</td>\n",
       "      <td>403.70</td>\n",
       "    </tr>\n",
       "    <tr>\n",
       "      <th>6</th>\n",
       "      <td>AR ABOGADOS C.B.SANTOMERA</td>\n",
       "      <td>20.0</td>\n",
       "      <td>1.0</td>\n",
       "      <td>1914.0</td>\n",
       "      <td>393.10</td>\n",
       "    </tr>\n",
       "    <tr>\n",
       "      <th>51</th>\n",
       "      <td>LORCA F.C. AD ELIOCROCA</td>\n",
       "      <td>19.0</td>\n",
       "      <td>2.0</td>\n",
       "      <td>1858.0</td>\n",
       "      <td>381.25</td>\n",
       "    </tr>\n",
       "    <tr>\n",
       "      <th>69</th>\n",
       "      <td>UCAM MURCIA C.B.</td>\n",
       "      <td>14.0</td>\n",
       "      <td>5.0</td>\n",
       "      <td>1816.0</td>\n",
       "      <td>370.26</td>\n",
       "    </tr>\n",
       "  </tbody>\n",
       "</table>\n",
       "</div>"
      ],
      "text/plain": [
       "                             team   win  position  scored  historic_score\n",
       "12                    C.B. JAIRIS  22.0       1.0  2150.0          441.30\n",
       "70  UCAM MURCIA C.B. \"A\" (JUNIOR)  16.0       3.0  1978.0          403.70\n",
       "6       AR ABOGADOS C.B.SANTOMERA  20.0       1.0  1914.0          393.10\n",
       "51        LORCA F.C. AD ELIOCROCA  19.0       2.0  1858.0          381.25\n",
       "69               UCAM MURCIA C.B.  14.0       5.0  1816.0          370.26"
      ]
     },
     "execution_count": 4,
     "metadata": {},
     "output_type": "execute_result"
    }
   ],
   "source": [
    "# Asignar pesos a cada criterio\n",
    "weight_win = 0.5\n",
    "weight_position = 0.3\n",
    "weight_scored = 0.2\n",
    "\n",
    "# Genera el nuevo DF para trabajar\n",
    "historic_team_df = results_df.sort_values(by=['team','win','position','scored'],\n",
    "                                            ascending=False)\n",
    "\n",
    "# Agrupa los registros por equipo y calcula la media\n",
    "historic_team_df = historic_team_df.groupby('team').agg({\n",
    "    'win': 'mean',  # Promedio de partidos ganados\n",
    "    'position': 'mean',         # Promedio de posición\n",
    "    'scored': 'mean'   # Promedio de puntos anotados\n",
    "}).reset_index()\n",
    "\n",
    "# Calcula la puntuación ponderada para cada equipo\n",
    "historic_team_df['historic_score'] = (\n",
    "    weight_win * historic_team_df['win'] +\n",
    "    weight_position * (1 / historic_team_df['position']) +\n",
    "    weight_scored * historic_team_df['scored']\n",
    ")\n",
    "\n",
    "# Ordenar por la puntuación obtenida\n",
    "historic_team_df = historic_team_df.sort_values(by='historic_score', ascending=False)\n",
    "\n",
    "# Print\n",
    "historic_team_df.head()\n"
   ]
  },
  {
   "cell_type": "markdown",
   "metadata": {},
   "source": [
    "### Equipo más mejorado\n",
    "\n",
    "Actualmente tenemos datos históricos desde la temporada 2015/2016 hasta la temporada 2022/2023. Por lo que se va a analizar que equipos han tenido mayor evolución durante esta franja de tiempo.\n",
    "\n",
    "No tienen por qué coincidir con los mejores equipos.\n",
    "\n",
    "Para evaluar cuanto ha mejorado un equipo, vamos a tener en cuenta victorias, posición, puntos anotados y puntos recibidos."
   ]
  },
  {
   "cell_type": "code",
   "execution_count": 15,
   "metadata": {},
   "outputs": [
    {
     "ename": "InvalidIndexError",
     "evalue": "(['season', 'team', 'position', 'win', 'scored', 'against', 'season_score', 'improvement'], 23     True\n36     True\n62     True\n0     False\n12    False\n      ...  \n48    False\n35    False\n88    False\n11    False\n22    False\nName: team, Length: 104, dtype: bool)",
     "output_type": "error",
     "traceback": [
      "\u001b[0;31m---------------------------------------------------------------------------\u001b[0m",
      "\u001b[0;31mTypeError\u001b[0m                                 Traceback (most recent call last)",
      "File \u001b[0;32m~/.local/share/virtualenvs/la-fede-teams-analytics-rINFP4I-/lib/python3.10/site-packages/pandas/core/indexes/base.py:3790\u001b[0m, in \u001b[0;36mIndex.get_loc\u001b[0;34m(self, key)\u001b[0m\n\u001b[1;32m   3789\u001b[0m \u001b[39mtry\u001b[39;00m:\n\u001b[0;32m-> 3790\u001b[0m     \u001b[39mreturn\u001b[39;00m \u001b[39mself\u001b[39;49m\u001b[39m.\u001b[39;49m_engine\u001b[39m.\u001b[39;49mget_loc(casted_key)\n\u001b[1;32m   3791\u001b[0m \u001b[39mexcept\u001b[39;00m \u001b[39mKeyError\u001b[39;00m \u001b[39mas\u001b[39;00m err:\n",
      "File \u001b[0;32mindex.pyx:152\u001b[0m, in \u001b[0;36mpandas._libs.index.IndexEngine.get_loc\u001b[0;34m()\u001b[0m\n",
      "File \u001b[0;32mindex.pyx:158\u001b[0m, in \u001b[0;36mpandas._libs.index.IndexEngine.get_loc\u001b[0;34m()\u001b[0m\n",
      "\u001b[0;31mTypeError\u001b[0m: '(['season', 'team', 'position', 'win', 'scored', 'against', 'season_score', 'improvement'], 23     True\n36     True\n62     True\n0     False\n12    False\n      ...  \n48    False\n35    False\n88    False\n11    False\n22    False\nName: team, Length: 104, dtype: bool)' is an invalid key",
      "\nDuring handling of the above exception, another exception occurred:\n",
      "\u001b[0;31mInvalidIndexError\u001b[0m                         Traceback (most recent call last)",
      "\u001b[1;32m/home/vlorente/Projects/la-fede-teams-analytics/analytics/main.ipynb Cell 8\u001b[0m line \u001b[0;36m4\n\u001b[1;32m     <a href='vscode-notebook-cell:/home/vlorente/Projects/la-fede-teams-analytics/analytics/main.ipynb#X10sZmlsZQ%3D%3D?line=38'>39</a>\u001b[0m print_colums \u001b[39m=\u001b[39m [\u001b[39m'\u001b[39m\u001b[39mseason\u001b[39m\u001b[39m'\u001b[39m, \u001b[39m'\u001b[39m\u001b[39mteam\u001b[39m\u001b[39m'\u001b[39m, \u001b[39m'\u001b[39m\u001b[39mposition\u001b[39m\u001b[39m'\u001b[39m, \u001b[39m'\u001b[39m\u001b[39mwin\u001b[39m\u001b[39m'\u001b[39m, \u001b[39m'\u001b[39m\u001b[39mscored\u001b[39m\u001b[39m'\u001b[39m, \u001b[39m'\u001b[39m\u001b[39magainst\u001b[39m\u001b[39m'\u001b[39m, \u001b[39m'\u001b[39m\u001b[39mseason_score\u001b[39m\u001b[39m'\u001b[39m, \u001b[39m'\u001b[39m\u001b[39mimprovement\u001b[39m\u001b[39m'\u001b[39m]\n\u001b[1;32m     <a href='vscode-notebook-cell:/home/vlorente/Projects/la-fede-teams-analytics/analytics/main.ipynb#X10sZmlsZQ%3D%3D?line=39'>40</a>\u001b[0m \u001b[39m# more_improved_rf[print_colums]\u001b[39;00m\n\u001b[0;32m---> <a href='vscode-notebook-cell:/home/vlorente/Projects/la-fede-teams-analytics/analytics/main.ipynb#X10sZmlsZQ%3D%3D?line=40'>41</a>\u001b[0m more_improved_rf[print_colums, more_improved_rf[\u001b[39m'\u001b[39;49m\u001b[39mteam\u001b[39;49m\u001b[39m'\u001b[39;49m] \u001b[39m==\u001b[39;49m most_improved_team_name]\n",
      "File \u001b[0;32m~/.local/share/virtualenvs/la-fede-teams-analytics-rINFP4I-/lib/python3.10/site-packages/pandas/core/frame.py:3896\u001b[0m, in \u001b[0;36mDataFrame.__getitem__\u001b[0;34m(self, key)\u001b[0m\n\u001b[1;32m   3894\u001b[0m \u001b[39mif\u001b[39;00m \u001b[39mself\u001b[39m\u001b[39m.\u001b[39mcolumns\u001b[39m.\u001b[39mnlevels \u001b[39m>\u001b[39m \u001b[39m1\u001b[39m:\n\u001b[1;32m   3895\u001b[0m     \u001b[39mreturn\u001b[39;00m \u001b[39mself\u001b[39m\u001b[39m.\u001b[39m_getitem_multilevel(key)\n\u001b[0;32m-> 3896\u001b[0m indexer \u001b[39m=\u001b[39m \u001b[39mself\u001b[39;49m\u001b[39m.\u001b[39;49mcolumns\u001b[39m.\u001b[39;49mget_loc(key)\n\u001b[1;32m   3897\u001b[0m \u001b[39mif\u001b[39;00m is_integer(indexer):\n\u001b[1;32m   3898\u001b[0m     indexer \u001b[39m=\u001b[39m [indexer]\n",
      "File \u001b[0;32m~/.local/share/virtualenvs/la-fede-teams-analytics-rINFP4I-/lib/python3.10/site-packages/pandas/core/indexes/base.py:3802\u001b[0m, in \u001b[0;36mIndex.get_loc\u001b[0;34m(self, key)\u001b[0m\n\u001b[1;32m   3797\u001b[0m     \u001b[39mraise\u001b[39;00m \u001b[39mKeyError\u001b[39;00m(key) \u001b[39mfrom\u001b[39;00m \u001b[39merr\u001b[39;00m\n\u001b[1;32m   3798\u001b[0m \u001b[39mexcept\u001b[39;00m \u001b[39mTypeError\u001b[39;00m:\n\u001b[1;32m   3799\u001b[0m     \u001b[39m# If we have a listlike key, _check_indexing_error will raise\u001b[39;00m\n\u001b[1;32m   3800\u001b[0m     \u001b[39m#  InvalidIndexError. Otherwise we fall through and re-raise\u001b[39;00m\n\u001b[1;32m   3801\u001b[0m     \u001b[39m#  the TypeError.\u001b[39;00m\n\u001b[0;32m-> 3802\u001b[0m     \u001b[39mself\u001b[39;49m\u001b[39m.\u001b[39;49m_check_indexing_error(key)\n\u001b[1;32m   3803\u001b[0m     \u001b[39mraise\u001b[39;00m\n",
      "File \u001b[0;32m~/.local/share/virtualenvs/la-fede-teams-analytics-rINFP4I-/lib/python3.10/site-packages/pandas/core/indexes/base.py:5974\u001b[0m, in \u001b[0;36mIndex._check_indexing_error\u001b[0;34m(self, key)\u001b[0m\n\u001b[1;32m   5970\u001b[0m \u001b[39mdef\u001b[39;00m \u001b[39m_check_indexing_error\u001b[39m(\u001b[39mself\u001b[39m, key):\n\u001b[1;32m   5971\u001b[0m     \u001b[39mif\u001b[39;00m \u001b[39mnot\u001b[39;00m is_scalar(key):\n\u001b[1;32m   5972\u001b[0m         \u001b[39m# if key is not a scalar, directly raise an error (the code below\u001b[39;00m\n\u001b[1;32m   5973\u001b[0m         \u001b[39m# would convert to numpy arrays and raise later any way) - GH29926\u001b[39;00m\n\u001b[0;32m-> 5974\u001b[0m         \u001b[39mraise\u001b[39;00m InvalidIndexError(key)\n",
      "\u001b[0;31mInvalidIndexError\u001b[0m: (['season', 'team', 'position', 'win', 'scored', 'against', 'season_score', 'improvement'], 23     True\n36     True\n62     True\n0     False\n12    False\n      ...  \n48    False\n35    False\n88    False\n11    False\n22    False\nName: team, Length: 104, dtype: bool)"
     ]
    }
   ],
   "source": [
    "# Asignar pesos a cada criterio\n",
    "weight_win = 0.3\n",
    "weight_position = 0.4\n",
    "weight_scored = 0.2\n",
    "weight_against = 0.1\n",
    "\n",
    "# Agrupa los registros por equipo y temporada, y calcula la media de los parámetros de evaluación\n",
    "more_improved_rf = results_df.groupby(['season','team']).agg({\n",
    "    'position': 'mean', # Promedio de posición\n",
    "    'win': 'mean',      # Promedio de partidos ganados\n",
    "    'scored': 'mean',   # Promedio de puntos anotados\n",
    "    'against': 'mean'   # Promedio de puntos recibidos\n",
    "}).reset_index()\n",
    "\n",
    "# Normalizar los datos utilizando Min-Max Scaling\n",
    "normalized_data = scaler.fit_transform(more_improved_rf[['position', 'win', 'scored', 'against']])\n",
    "more_improved_rf[['position_norm', 'win_norm', 'scored_norm', 'against_norm']] = normalized_data\n",
    "\n",
    "# Calcula la puntuación ponderada para cada equipo\n",
    "more_improved_rf['season_score'] = (\n",
    "    weight_position * (1 - more_improved_rf['position_norm']) +\n",
    "    weight_win * more_improved_rf['win_norm'] +\n",
    "    weight_scored * more_improved_rf['scored_norm'] +\n",
    "    weight_against * (1 - more_improved_rf['against_norm'])\n",
    ")\n",
    "\n",
    "more_improved_rf = more_improved_rf.sort_values(by=['team', 'season'])\n",
    "\n",
    "# Calcula la diferencia entre las puntuaciones ponderadas de temporadas sucesivas\n",
    "more_improved_rf['improvement'] = more_improved_rf.groupby('team')['season_score'].diff()\n",
    "\n",
    "# Encuentra el índice del equipo más mejorado\n",
    "index_of_most_improved_team = more_improved_rf['improvement'].idxmax()\n",
    "\n",
    "# Usa el índice para obtener el nombre del equipo más mejorado\n",
    "most_improved_team_name = more_improved_rf.loc[index_of_most_improved_team, 'team']\n",
    "\n",
    "# Print\n",
    "print_colums = ['season', 'team', 'position', 'win', 'scored', 'against', 'season_score', 'improvement']\n",
    "# more_improved_rf[print_colums]\n",
    "more_improved_rf[more_improved_rf['team'] == most_improved_team_name][print_colums]"
   ]
  },
  {
   "cell_type": "markdown",
   "metadata": {},
   "source": [
    "### Peor equipo histórico"
   ]
  },
  {
   "cell_type": "markdown",
   "metadata": {},
   "source": [
    "### Equipo más empeorado"
   ]
  },
  {
   "cell_type": "markdown",
   "metadata": {},
   "source": [
    "### Mejor equipo ofensivo"
   ]
  },
  {
   "cell_type": "markdown",
   "metadata": {},
   "source": [
    "### Mejor equipo defensivo"
   ]
  }
 ],
 "metadata": {
  "kernelspec": {
   "display_name": "la-fede-teams-analytics-rINFP4I-",
   "language": "python",
   "name": "python3"
  },
  "language_info": {
   "codemirror_mode": {
    "name": "ipython",
    "version": 3
   },
   "file_extension": ".py",
   "mimetype": "text/x-python",
   "name": "python",
   "nbconvert_exporter": "python",
   "pygments_lexer": "ipython3",
   "version": "3.10.12"
  },
  "orig_nbformat": 4
 },
 "nbformat": 4,
 "nbformat_minor": 2
}
